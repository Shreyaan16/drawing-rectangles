{
 "cells": [
  {
   "cell_type": "code",
   "execution_count": 18,
   "metadata": {},
   "outputs": [],
   "source": [
    "import numpy as np\n",
    "import cv2\n",
    "import matplotlib.pyplot as plt"
   ]
  },
  {
   "cell_type": "code",
   "execution_count": 20,
   "metadata": {},
   "outputs": [],
   "source": [
    "drawing=False\n",
    "ix=-1\n",
    "iy=-1\n",
    "\n",
    "def draw_rect(event , x , y , flags , params):\n",
    "    global ix , iy , drawing\n",
    "    if event == cv2.EVENT_LBUTTONDOWN:\n",
    "        if drawing == False:\n",
    "            drawing = True\n",
    "            ix , iy = x ,y\n",
    "    elif event == cv2.EVENT_MOUSEMOVE:\n",
    "        if drawing == True:\n",
    "            cv2.rectangle(img , (ix,iy) , (x,y) , color=(255,0,0) , thickness=-1)\n",
    "    elif event == cv2.EVENT_LBUTTONUP:\n",
    "        drawing = False\n",
    "        cv2.rectangle(img , (ix,iy) , (x,y) , color=(0,255,0) , thickness=-1)\n",
    "        \n",
    "\n",
    "img = np.zeros((500,400,3),dtype=np.uint8)\n",
    "cv2.namedWindow(winname='drawing')\n",
    "cv2.setMouseCallback('drawing',draw_rect)\n",
    "\n",
    "while True:\n",
    "    cv2.imshow('drawing' , img)\n",
    "    if cv2.waitKey(10) & 0xFF==27:\n",
    "        break\n",
    "cv2.destroyAllWindows()\n",
    "    "
   ]
  },
  {
   "cell_type": "code",
   "execution_count": null,
   "metadata": {},
   "outputs": [],
   "source": []
  }
 ],
 "metadata": {
  "kernelspec": {
   "display_name": "Python 3",
   "language": "python",
   "name": "python3"
  },
  "language_info": {
   "codemirror_mode": {
    "name": "ipython",
    "version": 3
   },
   "file_extension": ".py",
   "mimetype": "text/x-python",
   "name": "python",
   "nbconvert_exporter": "python",
   "pygments_lexer": "ipython3",
   "version": "3.6.6"
  }
 },
 "nbformat": 4,
 "nbformat_minor": 2
}
